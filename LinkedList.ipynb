{
 "cells": [
  {
   "cell_type": "markdown",
   "id": "0a6cc2f6-3fc9-4e36-b800-78a6b87269ed",
   "metadata": {},
   "source": [
    "## Linked List"
   ]
  },
  {
   "cell_type": "code",
   "execution_count": 18,
   "id": "010b0a6d-7724-4bbc-83e5-11b249ab981f",
   "metadata": {},
   "outputs": [
    {
     "name": "stdout",
     "output_type": "stream",
     "text": [
      "1 -> 2 -> 3 -> 2 -> 1 "
     ]
    }
   ],
   "source": [
    "class Node:\n",
    "    def __init__(self, value):\n",
    "        self.value = value  \n",
    "        self.next = None  \n",
    "\n",
    "class LinkedList:\n",
    "    def __init__(self):\n",
    "        self.head = None  # 리스트의 첫 번째 노드\n",
    "\n",
    "    def append(self, value):\n",
    "        new_node = Node(value)\n",
    "        if self.head == None:\n",
    "            self.head = new_node\n",
    "            return\n",
    "        current = self.head\n",
    "        while current.next:\n",
    "            current = current.next\n",
    "        current.next = new_node\n",
    "\n",
    "    def display(self):\n",
    "        current = self.head\n",
    "        while current:\n",
    "            print(current.value, end=\" \")\n",
    "            if current.next:\n",
    "                print(\"->\", end= \" \")\n",
    "            current = current.next\n",
    "\n",
    "    def recursive_reverse(self):\n",
    "        \"\"\"재귀적으로 연결 리스트 뒤집기\"\"\"\n",
    "        def reverse_recursive(node, prev=None):\n",
    "            if not node:\n",
    "                return prev\n",
    "            next_node, node.next = node.next, prev\n",
    "            return reverse_recursive(next_node, node)\n",
    "\n",
    "        self.head = reverse_recursive(self.head)\n",
    "\n",
    "    def iterative_reverse(self):\n",
    "        \"\"\"반복적으로 연결 리스트 뒤집기\"\"\"\n",
    "        node, prev = self.head, None\n",
    "\n",
    "        while node:\n",
    "            next, node.next = node.next, prev\n",
    "            prev, node = node, next\n",
    "        self.head = prev\n",
    "\n",
    "# 사용 예제\n",
    "ll = LinkedList()\n",
    "ll.append(1)\n",
    "ll.append(2)\n",
    "ll.append(3)\n",
    "ll.append(2)\n",
    "ll.append(1)\n",
    "ll.display()  # 출력: 10 -> 20 -> 30 -> None"
   ]
  },
  {
   "cell_type": "markdown",
   "id": "2e2b9081-46e7-46d5-9536-fff3cd14a80c",
   "metadata": {},
   "source": [
    "### Runner를 활용한 Pelindrome check"
   ]
  },
  {
   "cell_type": "code",
   "execution_count": 19,
   "id": "271abdb8-5c4d-44c6-9db9-1ae2594362b6",
   "metadata": {},
   "outputs": [],
   "source": [
    "def isPelindrome(linkedlist):\n",
    "    rev = None\n",
    "    slow = fast = linkedlist.head\n",
    "\n",
    "    while fast and fast.next:\n",
    "        fast = fast.next.next\n",
    "        rev, rev.next, slow = slow, rev, slow.next\n",
    "    if fast:\n",
    "        slow = slow.next\n",
    "\n",
    "    while rev and rev.value == slow.value:\n",
    "        slow, rev = slow.next, rev.next\n",
    "\n",
    "    return not rev"
   ]
  },
  {
   "cell_type": "code",
   "execution_count": 20,
   "id": "8edbce07-4cf6-4dfb-9168-76ab5ed9e8df",
   "metadata": {},
   "outputs": [
    {
     "data": {
      "text/plain": [
       "True"
      ]
     },
     "execution_count": 20,
     "metadata": {},
     "output_type": "execute_result"
    }
   ],
   "source": [
    "isPelindrome(ll)"
   ]
  },
  {
   "cell_type": "markdown",
   "id": "d123fa8e-be58-4ac3-92de-46ed069a6c73",
   "metadata": {},
   "source": [
    "### 재귀로 두개의 정렬된 연결리스트 병합"
   ]
  },
  {
   "cell_type": "code",
   "execution_count": 27,
   "id": "5f85c847-d963-409f-83ee-41dfad6af61d",
   "metadata": {},
   "outputs": [
    {
     "name": "stdout",
     "output_type": "stream",
     "text": [
      "a: 1 -> 2 -> 4 \n",
      "\n",
      "b: 1 -> 3 -> 4 "
     ]
    }
   ],
   "source": [
    "print(\"a: \", end=\"\")\n",
    "a = LinkedList()\n",
    "a.append(1)\n",
    "a.append(2)\n",
    "a.append(4)\n",
    "a.display()\n",
    "\n",
    "print(\"\\n\")\n",
    "\n",
    "print(\"b: \", end=\"\")\n",
    "b = LinkedList()\n",
    "b.append(1)\n",
    "b.append(3)\n",
    "b.append(4)\n",
    "b.display()"
   ]
  },
  {
   "cell_type": "code",
   "execution_count": 28,
   "id": "ea926003-57b0-4d0e-951e-25e8a0d0be01",
   "metadata": {},
   "outputs": [],
   "source": [
    "def mergeTwoLists(anode, bnode):\n",
    "    if (not anode) or (bnode and anode.value > bnode.value):\n",
    "        anode, bnode = bnode, anode\n",
    "\n",
    "    if anode:\n",
    "        anode.next = mergeTwoLists(anode.next, bnode)\n",
    "\n",
    "    return anode"
   ]
  },
  {
   "cell_type": "code",
   "execution_count": 29,
   "id": "29de1250-9ff7-4352-8863-99021b9aa12f",
   "metadata": {},
   "outputs": [
    {
     "name": "stdout",
     "output_type": "stream",
     "text": [
      "1 -> 1 -> 2 -> 3 -> 4 -> 4 "
     ]
    }
   ],
   "source": [
    "mergeTwoLists(a.head,b.head)\n",
    "a.display()"
   ]
  },
  {
   "cell_type": "markdown",
   "id": "2698e33e-4928-49de-831f-8c7a04aacdbe",
   "metadata": {},
   "source": [
    "## 연결리스트 뒤집기"
   ]
  },
  {
   "cell_type": "code",
   "execution_count": 100,
   "id": "5d39e99c-1c8f-4fb1-9f09-977363e915de",
   "metadata": {},
   "outputs": [
    {
     "name": "stdout",
     "output_type": "stream",
     "text": [
      "1 -> 2 -> 3 -> 4 -> 5 "
     ]
    }
   ],
   "source": [
    "l = LinkedList()\n",
    "l.append(1)\n",
    "l.append(2)\n",
    "l.append(3)\n",
    "l.append(4)\n",
    "l.append(5)\n",
    "l.display()"
   ]
  },
  {
   "cell_type": "code",
   "execution_count": 101,
   "id": "def028ed-5151-4a82-8bb0-4074127569a7",
   "metadata": {},
   "outputs": [
    {
     "name": "stdout",
     "output_type": "stream",
     "text": [
      "5 -> 4 -> 3 -> 2 -> 1 "
     ]
    }
   ],
   "source": [
    "# 재귀적 풀이\n",
    "l.recursive_reverse()\n",
    "l.display()"
   ]
  },
  {
   "cell_type": "code",
   "execution_count": 102,
   "id": "332001d0-b333-4d31-9e76-5de27e4718d2",
   "metadata": {},
   "outputs": [
    {
     "name": "stdout",
     "output_type": "stream",
     "text": [
      "1 -> 2 -> 3 -> 4 -> 5 "
     ]
    }
   ],
   "source": [
    "# 반복적 풀이\n",
    "l.iterative_reverse()\n",
    "l.display()"
   ]
  },
  {
   "cell_type": "markdown",
   "id": "50cb0411-ee16-4b7d-9113-27ab03962345",
   "metadata": {},
   "source": [
    "## 연결리스트의 홀 수 번째 인덱스 노드들 다음에 짝수 번째 인덱스 노드들 연결"
   ]
  },
  {
   "cell_type": "code",
   "execution_count": 103,
   "id": "6e47254d-a480-47ea-b183-7e455a8f8f81",
   "metadata": {},
   "outputs": [],
   "source": [
    "# 반복적 풀이\n",
    "def oddFirstList(head):\n",
    "    if head is None:\n",
    "        return None\n",
    "\n",
    "    odd = head\n",
    "    even = head.next\n",
    "    even_head = head.next\n",
    "\n",
    "    while even and even.next:\n",
    "        odd.next, even.next = odd.next.next, even.next.next\n",
    "        odd, even = odd.next, even.next\n",
    "\n",
    "    odd.next = even_head\n",
    "    return head"
   ]
  },
  {
   "cell_type": "code",
   "execution_count": 104,
   "id": "4c1abbf4-3b32-45d4-aa90-5b5dfde5024c",
   "metadata": {},
   "outputs": [
    {
     "name": "stdout",
     "output_type": "stream",
     "text": [
      "1 -> 3 -> 5 -> 2 -> 4 "
     ]
    }
   ],
   "source": [
    "oddFirstList(l.head)\n",
    "l.display()"
   ]
  },
  {
   "cell_type": "markdown",
   "id": "6ceb56a0-7bd6-416a-98ce-3085fd01e929",
   "metadata": {},
   "source": [
    "## 연결 리스트의 인덱스 m 에서 n까지의 노드들을 역순으로 "
   ]
  },
  {
   "cell_type": "code",
   "execution_count": 105,
   "id": "c87b584c-72f5-4b11-9dbc-fc4584e1341e",
   "metadata": {},
   "outputs": [],
   "source": [
    "def reverseBetween(head, m, n):\n",
    "    if not head or m == n:\n",
    "        return None\n",
    "\n",
    "    root = start = Node(None)\n",
    "\n",
    "    root.next = head\n",
    "\n",
    "    for _ in range(m - 1):\n",
    "        start = start.next\n",
    "    end = start.next\n",
    "\n",
    "    for _ in range(n - m):\n",
    "        tmp = start.next\n",
    "        start.next = end.next\n",
    "        end.next = end.next.next\n",
    "        start.next.next = tmp\n",
    "\n",
    "    return root.next"
   ]
  },
  {
   "cell_type": "code",
   "execution_count": 106,
   "id": "32116d06-c182-40c4-ae1d-9d56b8556586",
   "metadata": {},
   "outputs": [
    {
     "name": "stdout",
     "output_type": "stream",
     "text": [
      "1 -> 2 -> 5 -> 3 -> 4 "
     ]
    }
   ],
   "source": [
    "reverseBetween(l.head, 2, 4)\n",
    "l.display()"
   ]
  }
 ],
 "metadata": {
  "kernelspec": {
   "display_name": "Python 3 (ipykernel)",
   "language": "python",
   "name": "python3"
  },
  "language_info": {
   "codemirror_mode": {
    "name": "ipython",
    "version": 3
   },
   "file_extension": ".py",
   "mimetype": "text/x-python",
   "name": "python",
   "nbconvert_exporter": "python",
   "pygments_lexer": "ipython3",
   "version": "3.9.0"
  }
 },
 "nbformat": 4,
 "nbformat_minor": 5
}
