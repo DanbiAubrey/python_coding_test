{
 "cells": [
  {
   "cell_type": "markdown",
   "id": "0a6cc2f6-3fc9-4e36-b800-78a6b87269ed",
   "metadata": {},
   "source": [
    "## Linked List"
   ]
  },
  {
   "cell_type": "code",
   "execution_count": 179,
   "id": "010b0a6d-7724-4bbc-83e5-11b249ab981f",
   "metadata": {},
   "outputs": [
    {
     "name": "stdout",
     "output_type": "stream",
     "text": [
      "1 -> 2 -> 3 -> 2 -> 1 "
     ]
    }
   ],
   "source": [
    "class Node:\n",
    "    def __init__(self, value):\n",
    "        self.value = value  \n",
    "        self.next = None  \n",
    "\n",
    "class SinglyLinkedList:\n",
    "    def __init__(self):\n",
    "        self.head = None  # 리스트의 첫 번째 노드\n",
    "\n",
    "    def append(self, value):\n",
    "        new_node = Node(value)\n",
    "        if self.head == None:\n",
    "            self.head = new_node\n",
    "            return\n",
    "        current = self.head\n",
    "        while current.next:\n",
    "            current = current.next\n",
    "        current.next = new_node\n",
    "\n",
    "    def display(self):\n",
    "        current = self.head\n",
    "        while current:\n",
    "            print(current.value, end=\" \")\n",
    "            if current.next:\n",
    "                print(\"->\", end= \" \")\n",
    "            current = current.next\n",
    "\n",
    "    def reverse(self):\n",
    "        \"\"\"재귀적으로 연결 리스트 뒤집기\"\"\"\n",
    "        def reverse_recursive(node, prev=None):\n",
    "            if not node:\n",
    "                return prev\n",
    "            next_node, node.next = node.next, prev\n",
    "            return reverse_recursive(next_node, node)\n",
    "\n",
    "        self.head = reverse_recursive(self.head)\n",
    "\n",
    "# 사용 예제\n",
    "sll = SinglyLinkedList()\n",
    "sll.append(1)\n",
    "sll.append(2)\n",
    "sll.append(3)\n",
    "sll.append(2)\n",
    "sll.append(1)\n",
    "sll.display()  # 출력: 10 -> 20 -> 30 -> None"
   ]
  },
  {
   "cell_type": "markdown",
   "id": "2e2b9081-46e7-46d5-9536-fff3cd14a80c",
   "metadata": {},
   "source": [
    "### Runner를 활용한 Pelindrome check"
   ]
  },
  {
   "cell_type": "code",
   "execution_count": 81,
   "id": "271abdb8-5c4d-44c6-9db9-1ae2594362b6",
   "metadata": {},
   "outputs": [],
   "source": [
    "def isPelindrome(linkedlist):\n",
    "    rev = None\n",
    "    slow = fast = linkedlist.head\n",
    "\n",
    "    while fast and fast.next:\n",
    "        fast = fast.next.next\n",
    "        rev, rev.next, slow = slow, rev, slow.next\n",
    "    if fast:\n",
    "        slow = slow.next\n",
    "\n",
    "    while rev and rev.value == slow.value:\n",
    "        slow, rev = slow.next, rev.next\n",
    "\n",
    "    return not rev"
   ]
  },
  {
   "cell_type": "code",
   "execution_count": 82,
   "id": "8edbce07-4cf6-4dfb-9168-76ab5ed9e8df",
   "metadata": {},
   "outputs": [
    {
     "data": {
      "text/plain": [
       "True"
      ]
     },
     "execution_count": 82,
     "metadata": {},
     "output_type": "execute_result"
    }
   ],
   "source": [
    "isPelindrome(sll)"
   ]
  },
  {
   "cell_type": "markdown",
   "id": "d123fa8e-be58-4ac3-92de-46ed069a6c73",
   "metadata": {},
   "source": [
    "### 재귀로 두개의 정렬된 연결리스트 병합"
   ]
  },
  {
   "cell_type": "code",
   "execution_count": 83,
   "id": "5f85c847-d963-409f-83ee-41dfad6af61d",
   "metadata": {},
   "outputs": [
    {
     "name": "stdout",
     "output_type": "stream",
     "text": [
      "1 -> 2 -> 4 1 -> 3 -> 4 "
     ]
    }
   ],
   "source": [
    "a = SinglyLinkedList()\n",
    "a.append(1)\n",
    "a.append(2)\n",
    "a.append(4)\n",
    "a.display()\n",
    "\n",
    "b = SinglyLinkedList()\n",
    "b.append(1)\n",
    "b.append(3)\n",
    "b.append(4)\n",
    "b.display()"
   ]
  },
  {
   "cell_type": "code",
   "execution_count": 84,
   "id": "ea926003-57b0-4d0e-951e-25e8a0d0be01",
   "metadata": {},
   "outputs": [],
   "source": [
    "def mergeTwoLists(anode, bnode):\n",
    "    if (not anode) or (bnode and anode.value > bnode.value):\n",
    "        anode, bnode = bnode, anode\n",
    "\n",
    "    if anode:\n",
    "        anode.next = mergeTwoLists(anode.next, bnode)\n",
    "\n",
    "    return anode"
   ]
  },
  {
   "cell_type": "code",
   "execution_count": 85,
   "id": "29de1250-9ff7-4352-8863-99021b9aa12f",
   "metadata": {},
   "outputs": [
    {
     "data": {
      "text/plain": [
       "<__main__.Node at 0x7fc755aa4070>"
      ]
     },
     "execution_count": 85,
     "metadata": {},
     "output_type": "execute_result"
    }
   ],
   "source": [
    "mergeTwoLists(a.head,b.head)"
   ]
  },
  {
   "cell_type": "code",
   "execution_count": 86,
   "id": "bc27a069-3e37-44ec-ae6a-040fe262c786",
   "metadata": {},
   "outputs": [
    {
     "name": "stdout",
     "output_type": "stream",
     "text": [
      "1 -> 1 -> 2 -> 3 -> 4 -> 4 "
     ]
    }
   ],
   "source": [
    "a.display()"
   ]
  },
  {
   "cell_type": "markdown",
   "id": "2698e33e-4928-49de-831f-8c7a04aacdbe",
   "metadata": {},
   "source": [
    "## 연결리스트 뒤집기"
   ]
  },
  {
   "cell_type": "code",
   "execution_count": 180,
   "id": "5d39e99c-1c8f-4fb1-9f09-977363e915de",
   "metadata": {},
   "outputs": [
    {
     "name": "stdout",
     "output_type": "stream",
     "text": [
      "1 -> 2 -> 3 -> 4 -> 5 "
     ]
    }
   ],
   "source": [
    "l = SinglyLinkedList()\n",
    "l.append(1)\n",
    "l.append(2)\n",
    "l.append(3)\n",
    "l.append(4)\n",
    "l.append(5)\n",
    "l.display()"
   ]
  },
  {
   "cell_type": "code",
   "execution_count": 183,
   "id": "def028ed-5151-4a82-8bb0-4074127569a7",
   "metadata": {},
   "outputs": [],
   "source": [
    "l.reverse()"
   ]
  },
  {
   "cell_type": "code",
   "execution_count": 184,
   "id": "9aa4400e-4d24-4485-a6ec-38376ef3a4a8",
   "metadata": {},
   "outputs": [
    {
     "name": "stdout",
     "output_type": "stream",
     "text": [
      "5 -> 4 -> 3 -> 2 -> 1 "
     ]
    }
   ],
   "source": [
    "l.display()"
   ]
  }
 ],
 "metadata": {
  "kernelspec": {
   "display_name": "Python 3 (ipykernel)",
   "language": "python",
   "name": "python3"
  },
  "language_info": {
   "codemirror_mode": {
    "name": "ipython",
    "version": 3
   },
   "file_extension": ".py",
   "mimetype": "text/x-python",
   "name": "python",
   "nbconvert_exporter": "python",
   "pygments_lexer": "ipython3",
   "version": "3.9.0"
  }
 },
 "nbformat": 4,
 "nbformat_minor": 5
}
